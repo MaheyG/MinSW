{
 "cells": [
  {
   "cell_type": "code",
   "execution_count": 14,
   "id": "97444fa6-0bf1-4b1a-a4c7-c390ef8fccab",
   "metadata": {},
   "outputs": [],
   "source": [
    "import numpy as np\n",
    "import torch\n",
    "import matplotlib.pylab as pl\n",
    "import ot\n",
    "from sklearn import datasets"
   ]
  },
  {
   "cell_type": "code",
   "execution_count": 4,
   "id": "c5d0dcc4-beaa-4315-a4a5-48757988a11e",
   "metadata": {},
   "outputs": [],
   "source": [
    "import sys\n",
    "from generate_data import make_data\n",
    "from SWGG import SWGG_parallel\n",
    "from utils import random_slice"
   ]
  },
  {
   "cell_type": "code",
   "execution_count": 5,
   "id": "37e16b34-b8ff-4101-8d30-b06bce569e27",
   "metadata": {},
   "outputs": [
    {
     "name": "stdout",
     "output_type": "stream",
     "text": [
      "Used device: cpu\n"
     ]
    }
   ],
   "source": [
    "device = 'cuda' if torch.cuda.is_available() else 'cpu'\n",
    "\n",
    "device='cpu'\n",
    "dtype = torch.DoubleTensor\n",
    "print('Used device: '+device)"
   ]
  },
  {
   "cell_type": "code",
   "execution_count": 122,
   "id": "1d908b96-7aab-4f50-a9c7-61093c6ffed8",
   "metadata": {},
   "outputs": [],
   "source": [
    "get_rot= lambda theta : np.array([[np.cos(theta), -np.sin(theta)],[np.sin(theta),np.cos(theta)]])\n",
    "\n",
    "def make_blobs_reg(n_samples, n_blobs, scale=.5):\n",
    "    per_blob=int(n_samples/n_blobs)\n",
    "    result = np.random.randn(per_blob,2) * scale + 5\n",
    "    theta=(2*np.pi)/(n_blobs)\n",
    "    for r in range(1,n_blobs):\n",
    "        new_blob=(np.random.randn(per_blob,2) * scale + 5).dot(get_rot(theta*r))\n",
    "        result = np.vstack((result,new_blob))\n",
    "    return result\n",
    "\n",
    "def make_data(expe,n_samples,dim=2):\n",
    "    if expe=='mog_reg':\n",
    "        r=.5\n",
    "        xs = make_blobs_reg(n_samples=n_samples, n_blobs=3)\n",
    "        xt = make_blobs_reg(n_samples=n_samples, n_blobs=3).dot(get_rot(r))\n",
    "    elif expe=='gaussians' :\n",
    "        mu_s = np.random.randint(-1,1,dim)\n",
    "        cov_s = np.diag(np.random.randint(1,10,dim))\n",
    "        cov_s = cov_s * np.eye(dim)\n",
    "\n",
    "        mu_t = np.random.randint(-1,1,dim)\n",
    "        cov_t = np.diag(np.random.randint(1,10,dim))\n",
    "        cov_t = cov_t * np.eye(dim)\n",
    "        \n",
    "        xs = np.random.multivariate_normal(mu_s, cov_s, n_samples)\n",
    "        xt = np.random.multivariate_normal(mu_t, cov_t, n_samples)\n",
    "        \n",
    "    X = torch.from_numpy(xs).to(device)\n",
    "    Y = torch.from_numpy(xt).to(device)\n",
    "    X=X.float()\n",
    "    Y=Y.float()\n",
    "    return X,Y\n",
    "    \n",
    "    "
   ]
  },
  {
   "cell_type": "code",
   "execution_count": 132,
   "id": "c7870d06-dc57-4244-9119-46f44a29617a",
   "metadata": {},
   "outputs": [
    {
     "data": {
      "text/plain": [
       "<matplotlib.legend.Legend at 0x7f3bd1868df0>"
      ]
     },
     "execution_count": 132,
     "metadata": {},
     "output_type": "execute_result"
    },
    {
     "data": {
      "image/png": "[encoded data removed]",
      "text/plain": [
       "<Figure size 216x216 with 1 Axes>"
      ]
     },
     "metadata": {
      "needs_background": "light"
     },
     "output_type": "display_data"
    }
   ],
   "source": [
    "n=20\n",
    "dim=15\n",
    "X,Y=make_data('mog_reg',n,dim)\n",
    "\n",
    "pl.figure(figsize=(3,3))\n",
    "pl.scatter(X[:, 0], X[:, 1], c='C0', label='Source')\n",
    "pl.scatter(Y[:, 0], Y[:, 1], c='C1', label='Target')\n",
    "pl.legend(loc=2)"
   ]
  },
  {
   "cell_type": "markdown",
   "id": "6a86fa69-402d-4f88-ae5c-c4cb200df6b2",
   "metadata": {},
   "source": [
    "# Exact $W^2_2$"
   ]
  },
  {
   "cell_type": "code",
   "execution_count": 125,
   "id": "6c1426ea-992a-4378-9173-7e560e2bc68e",
   "metadata": {},
   "outputs": [
    {
     "name": "stdout",
     "output_type": "stream",
     "text": [
      "W =  tensor(71.9089)\n"
     ]
    }
   ],
   "source": [
    "ns=X.shape[0]\n",
    "nt=Y.shape[0]\n",
    "a, b = torch.ones((ns,))/nt, torch.ones((nt,))/nt\n",
    "#The exact Wasserstein distance\n",
    "C=ot.dist(X,Y)#,metric='euclidean')\n",
    "print('W = ',ot.emd2(a,b,C))"
   ]
  },
  {
   "cell_type": "markdown",
   "id": "dd7c5e41-e94d-42c0-8f87-479353f9a709",
   "metadata": {},
   "source": [
    "# $PDW$ with random Monte-Carlo projections"
   ]
  },
  {
   "cell_type": "code",
   "execution_count": 126,
   "id": "b40b2a6d-1b5c-4dc1-8fd3-3d506bd1f853",
   "metadata": {},
   "outputs": [
    {
     "name": "stdout",
     "output_type": "stream",
     "text": [
      "PWD Monte Carlo =  tensor(119.5216)\n"
     ]
    }
   ],
   "source": [
    "n_proj=20\n",
    "theta=random_slice(n_proj,dim).T\n",
    "\n",
    "W,_,_=SWGG_parallel(X,Y,theta)\n",
    "print('PWD Monte Carlo = ',torch.mean(W))\n"
   ]
  },
  {
   "cell_type": "code",
   "execution_count": 127,
   "id": "f6ee4dd9-6b14-46f6-bc76-33fe029093f8",
   "metadata": {},
   "outputs": [
    {
     "data": {
      "text/plain": [
       "torch.Size([15, 20])"
      ]
     },
     "execution_count": 127,
     "metadata": {},
     "output_type": "execute_result"
    }
   ],
   "source": [
    "theta.shape"
   ]
  },
  {
   "cell_type": "markdown",
   "id": "fd3b0b9e-474e-420b-9aa3-005af381ab85",
   "metadata": {},
   "source": [
    "# $PDW$ with Orthogonal projections"
   ]
  },
  {
   "cell_type": "code",
   "execution_count": 128,
   "id": "1bebd47a-a5fe-496c-a333-257720a8320c",
   "metadata": {},
   "outputs": [],
   "source": [
    "from scipy.stats import ortho_group"
   ]
  },
  {
   "cell_type": "code",
   "execution_count": 129,
   "id": "343099a6-a145-46c2-ba0b-abcfc00ffcef",
   "metadata": {},
   "outputs": [
    {
     "name": "stdout",
     "output_type": "stream",
     "text": [
      "PWD Orthogonal =  tensor(115.8112)\n"
     ]
    }
   ],
   "source": [
    "n_proj=3 #n_proj < dim\n",
    "theta = ortho_group.rvs(dim)\n",
    "theta = torch.tensor(theta[:,0:n_proj]).float()\n",
    "\n",
    "W,_,_=SWGG_parallel(X,Y,theta)\n",
    "print('PWD Orthogonal = ',torch.mean(W))"
   ]
  },
  {
   "cell_type": "code",
   "execution_count": null,
   "id": "61648724-7464-4ca8-9ff1-fcef1a6469fb",
   "metadata": {},
   "outputs": [],
   "source": []
  },
  {
   "cell_type": "markdown",
   "id": "8f398317-99c2-4566-9d7d-2ca50fca131b",
   "metadata": {},
   "source": [
    "# Evolution wrt $n$"
   ]
  },
  {
   "cell_type": "code",
   "execution_count": 137,
   "id": "f89116df-b46b-47a1-9c08-eecfdb930b59",
   "metadata": {},
   "outputs": [
    {
     "name": "stdout",
     "output_type": "stream",
     "text": [
      "nb point [  10   12   16   20   26   33   42   54   69   88  112  143  183  233\n",
      "  297  379  483  615  784 1000]\n"
     ]
    }
   ],
   "source": [
    "n_seed=10\n",
    "\n",
    "n_l=np.logspace(1, 3,20, dtype=int)\n",
    "print('nb point',n_l)\n",
    "dim=2\n",
    "\n",
    "n_proj=2000\n",
    "res=torch.empty((4,len(n_l),n_seed))"
   ]
  },
  {
   "cell_type": "code",
   "execution_count": 138,
   "id": "5dac8981-5aca-415d-8082-85aeacc00ecb",
   "metadata": {},
   "outputs": [
    {
     "name": "stdout",
     "output_type": "stream",
     "text": [
      "0 1 2 3 4 5 6 7 8 9 "
     ]
    }
   ],
   "source": [
    "for j in range(n_seed):\n",
    "    print(j,end=' ')\n",
    "    for k,n in enumerate(n_l):\n",
    "        X,Y=make_data('mog_reg',n,dim)\n",
    "        ns=X.shape[0]\n",
    "        nt=Y.shape[0]\n",
    "        a, b = torch.ones((ns,))/nt, torch.ones((nt,))/nt\n",
    "        \n",
    "        #The exact Wasserstein distance\n",
    "        C=ot.dist(X,Y)\n",
    "        res[0,k,j]=ot.emd2(a,b,C,numItermax=1000000)\n",
    "        \n",
    "        #PWD Monte Carlo\n",
    "        theta=random_slice(n_proj,dim).T\n",
    "        res[1,k,j]=torch.mean(SWGG_parallel(X,Y,theta)[0])\n",
    "        \n",
    "        #SWGG Monte Carlo\n",
    "        res[3,k,j]=torch.min(SWGG_parallel(X,Y,theta)[0])\n",
    "        \n",
    "        #PWD Orthogonal\n",
    "        theta = ortho_group.rvs(dim)\n",
    "        theta = torch.tensor(theta[:,0:min(n_proj,dim)]).float()\n",
    "        res[2,k,j]=torch.mean(SWGG_parallel(X,Y,theta)[0])  "
   ]
  },
  {
   "cell_type": "code",
   "execution_count": 139,
   "id": "f6460232-cbc3-46ee-8cb4-416b137c70a2",
   "metadata": {},
   "outputs": [],
   "source": [
    "res_mean=torch.mean(res,axis=2)\n",
    "res_std=torch.std(res,axis=2)\n",
    "label=['Exact Wasserstein','PWD Monte Carlo','PWD Orthogonal','SWGG']"
   ]
  },
  {
   "cell_type": "code",
   "execution_count": 140,
   "id": "06923e56-2a12-408c-a02d-e7a28ea4a07f",
   "metadata": {},
   "outputs": [
    {
     "data": {
      "image/png": "[encoded data removed]",
      "text/plain": [
       "<Figure size 864x432 with 1 Axes>"
      ]
     },
     "metadata": {
      "needs_background": "light"
     },
     "output_type": "display_data"
    }
   ],
   "source": [
    "pl.figure(figsize=(12,6))\n",
    "for i in range(len(label)):\n",
    "    pl.plot(n_l, res_mean[i,:],c='C%i'%i,label=label[i])\n",
    "    #pl.fill_between(n_l, res_mean[i,:] -  2*res_std[i,:], res_mean[i,:] + 2*res_std[i,:], alpha=0.2)\n",
    "\n",
    "    \n",
    "pl.xscale('log')\n",
    "pl.xlabel(\"Number of points\")\n",
    "pl.ylabel(\"Distance\")\n",
    "pl.title('Evolution of PWD wrt n with dim = %i'%dim)\n",
    "pl.legend()\n",
    "pl.show()"
   ]
  },
  {
   "cell_type": "markdown",
   "id": "56e80d43-defe-4870-8bd2-d4cc3f121f7d",
   "metadata": {},
   "source": [
    "# Evolution wrt $dim$"
   ]
  },
  {
   "cell_type": "code",
   "execution_count": 97,
   "id": "0ea6d538-6c5c-4419-bcad-0d6484a51abb",
   "metadata": {},
   "outputs": [
    {
     "name": "stdout",
     "output_type": "stream",
     "text": [
      "dimension [   2    3    4    6    8   12   16   22   31   42   58   80  110  150\n",
      "  206  283  388  532  729 1000]\n"
     ]
    }
   ],
   "source": [
    "n_seed=10\n",
    "\n",
    "dim_l=np.logspace(.4, 3,20, dtype=int)\n",
    "print('dimension',dim_l)\n",
    "n=500\n",
    "\n",
    "n_proj=200\n",
    "res=torch.empty((3,len(dim_l),n_seed))"
   ]
  },
  {
   "cell_type": "code",
   "execution_count": 98,
   "id": "bee52948-798f-48bf-97f9-5d68389c38d9",
   "metadata": {},
   "outputs": [
    {
     "name": "stdout",
     "output_type": "stream",
     "text": [
      "0 1 2 3 4 5 6 7 8 9 "
     ]
    }
   ],
   "source": [
    "for j in range(n_seed):\n",
    "    print(j,end=' ')\n",
    "    for k,d in enumerate(dim_l):\n",
    "        X,Y=make_data('gaussians',n,d)\n",
    "        ns=X.shape[0]\n",
    "        nt=Y.shape[0]\n",
    "        a, b = torch.ones((ns,))/nt, torch.ones((nt,))/nt\n",
    "        \n",
    "        #The exact Wasserstein distance\n",
    "        C=ot.dist(X,Y)\n",
    "        res[0,k,j]=ot.emd2(a,b,C,numItermax=1000000)\n",
    "        \n",
    "        #PWD Monte Carlo\n",
    "        theta=random_slice(n_proj,d).T\n",
    "        res[1,k,j]=torch.mean(SWGG_parallel(X,Y,theta)[0])\n",
    "        \n",
    "        #PWD Orthogonal\n",
    "        theta = ortho_group.rvs(d)\n",
    "        theta = torch.tensor(theta[:,0:min(n_proj,dim)]).float()\n",
    "        res[2,k,j]=torch.mean(SWGG_parallel(X,Y,theta)[0])  "
   ]
  },
  {
   "cell_type": "code",
   "execution_count": 99,
   "id": "171acd2e-c794-4a8c-8a23-70bbd81358d4",
   "metadata": {},
   "outputs": [],
   "source": [
    "res_mean=torch.mean(res,axis=2)\n",
    "res_std=torch.std(res,axis=2)\n",
    "label=['Exact Wasserstein','PWD Monte Carlo','PWD Orthogonal']"
   ]
  },
  {
   "cell_type": "code",
   "execution_count": 100,
   "id": "82f5358c-e205-466f-ae0b-c95a095004be",
   "metadata": {},
   "outputs": [
    {
     "data": {
      "image/png": "[encoded data removed]",
      "text/plain": [
       "<Figure size 864x432 with 1 Axes>"
      ]
     },
     "metadata": {
      "needs_background": "light"
     },
     "output_type": "display_data"
    }
   ],
   "source": [
    "pl.figure(figsize=(12,6))\n",
    "for i in range(3):\n",
    "    pl.plot(dim_l, res_mean[i,:],c='C%i'%i,label=label[i])\n",
    "    pl.fill_between(dim_l, res_mean[i,:] -  2*res_std[i,:], res_mean[i,:] + 2*res_std[i,:], alpha=0.2)\n",
    "\n",
    "    \n",
    "pl.xscale('log')\n",
    "pl.xlabel(\"Dimension\")\n",
    "pl.ylabel(\"Distance\")\n",
    "pl.title('Evolution of PWD wrt dim with n = %i'%n)\n",
    "pl.legend()\n",
    "pl.show()"
   ]
  },
  {
   "cell_type": "code",
   "execution_count": null,
   "id": "c22785b4-735c-4ef1-96d3-a54d6afbf7da",
   "metadata": {},
   "outputs": [],
   "source": []
  }
 ],
 "metadata": {
  "kernelspec": {
   "display_name": "Python 3 (ipykernel)",
   "language": "python",
   "name": "python3"
  },
  "language_info": {
   "codemirror_mode": {
    "name": "ipython",
    "version": 3
   },
   "file_extension": ".py",
   "mimetype": "text/x-python",
   "name": "python",
   "nbconvert_exporter": "python",
   "pygments_lexer": "ipython3",
   "version": "3.10.6"
  }
 },
 "nbformat": 4,
 "nbformat_minor": 5
}
