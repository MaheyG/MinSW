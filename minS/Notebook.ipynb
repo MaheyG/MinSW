{
 "cells": [
  {
   "cell_type": "code",
   "execution_count": 34,
   "id": "bb5c4bad-4591-4aee-936c-26d72e247ff2",
   "metadata": {},
   "outputs": [],
   "source": [
    "import numpy as np\n",
    "import matplotlib.pylab as pl\n",
    "import pylab\n",
    "import torch\n",
    "import ot\n",
    "\n",
    "from generate_data import make_data\n",
    "from minS_parallel import upperW2\n",
    "from utils import random_slice,sort_to_plan"
   ]
  },
  {
   "cell_type": "code",
   "execution_count": 46,
   "id": "34363a60-b526-4584-a5e1-05964099dff6",
   "metadata": {},
   "outputs": [
    {
     "name": "stdout",
     "output_type": "stream",
     "text": [
      "Used device: cpu\n"
     ]
    }
   ],
   "source": [
    "device = 'cuda' if torch.cuda.is_available() else 'cpu'\n",
    "\n",
    "device='cpu'\n",
    "torch.CUDA_LAUNCH_BLOCKING=1\n",
    "\n",
    "print('Used device: '+device)"
   ]
  },
  {
   "cell_type": "code",
   "execution_count": 47,
   "id": "ad0d091f-b35e-4825-b469-a170cdbef622",
   "metadata": {},
   "outputs": [
    {
     "data": {
      "text/plain": [
       "<matplotlib.legend.Legend at 0x7f30192cc8e0>"
      ]
     },
     "execution_count": 47,
     "metadata": {},
     "output_type": "execute_result"
    },
    {
     "data": {
      "image/png": "[encoded data removed]",
      "text/plain": [
       "<Figure size 432x432 with 1 Axes>"
      ]
     },
     "metadata": {
      "needs_background": "light"
     },
     "output_type": "display_data"
    }
   ],
   "source": [
    "n=50\n",
    "dim=2\n",
    "xs,xt=make_data('gaussians',n,dim)\n",
    "\n",
    "\n",
    "pl.figure(figsize=(6,6))\n",
    "pl.scatter(xs[:, 0], xs[:, 1], c='C0', label='Source')\n",
    "pl.scatter(xt[:, 0], xt[:, 1], c='C1', label='Target')\n",
    "pl.legend(loc=2)"
   ]
  },
  {
   "cell_type": "code",
   "execution_count": 48,
   "id": "dc69df73-cde9-4f5c-bbb7-9af81300f1cf",
   "metadata": {},
   "outputs": [],
   "source": [
    "X = torch.from_numpy(xs).to(device)\n",
    "Y = torch.from_numpy(xt).to(device)\n",
    "\n",
    "X=X.float()\n",
    "Y=Y.float()"
   ]
  },
  {
   "cell_type": "code",
   "execution_count": 49,
   "id": "3a0921b2-9dca-4a84-bd58-f4a83afb1619",
   "metadata": {},
   "outputs": [
    {
     "name": "stdout",
     "output_type": "stream",
     "text": [
      "torch.Size([2, 20])\n"
     ]
    }
   ],
   "source": [
    "n_proj=20\n",
    "theta=random_slice(n_proj,dim).T\n",
    "print(theta.shape)"
   ]
  },
  {
   "cell_type": "code",
   "execution_count": 50,
   "id": "df129cfe-27dd-4891-95e6-77193f1ca77e",
   "metadata": {},
   "outputs": [
    {
     "name": "stdout",
     "output_type": "stream",
     "text": [
      "minS =  tensor(193.7224)\n",
      "W =  188.53737627324486\n"
     ]
    }
   ],
   "source": [
    "#minS\n",
    "W,u,v=upperW2(X,Y,theta)\n",
    "P_l=[sort_to_plan(u[:,i],v[:,i]) for i in range(n_proj)]\n",
    "print('minS = ',torch.min(W))\n",
    "idx=torch.argmin(W)\n",
    "P=sort_to_plan(u[:,idx],v[:,idx])\n",
    "\n",
    "\n",
    "#The exact Wasserstein distance\n",
    "C=ot.dist(xs,xt)\n",
    "a, b = np.ones((n,))/n, np.ones((n,))/n\n",
    "print('W = ',ot.emd2(a,b,C))"
   ]
  },
  {
   "cell_type": "code",
   "execution_count": null,
   "id": "6fe621ea-5f64-4e0a-b89c-f62da6212c57",
   "metadata": {},
   "outputs": [],
   "source": []
  },
  {
   "cell_type": "code",
   "execution_count": null,
   "id": "d8bdb053-4a99-4349-8e2a-e2648fe9b81e",
   "metadata": {},
   "outputs": [],
   "source": []
  },
  {
   "cell_type": "code",
   "execution_count": null,
   "id": "71be822c-9efe-4e12-9c3c-0f2a1a43a9ad",
   "metadata": {},
   "outputs": [],
   "source": []
  }
 ],
 "metadata": {
  "kernelspec": {
   "display_name": "Python 3 (ipykernel)",
   "language": "python",
   "name": "python3"
  },
  "language_info": {
   "codemirror_mode": {
    "name": "ipython",
    "version": 3
   },
   "file_extension": ".py",
   "mimetype": "text/x-python",
   "name": "python",
   "nbconvert_exporter": "python",
   "pygments_lexer": "ipython3",
   "version": "3.10.6"
  }
 },
 "nbformat": 4,
 "nbformat_minor": 5
}
