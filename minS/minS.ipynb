{
 "cells": [
  {
   "cell_type": "code",
   "execution_count": 2,
   "id": "00d9289a-ae3a-4139-a5cc-9b33cdc2aaec",
   "metadata": {},
   "outputs": [],
   "source": [
    "import sys\n",
    "path='./minS/'\n",
    "sys.path.append(path)\n",
    "import numpy as np\n",
    "import matplotlib.pylab as pl\n",
    "import pylab\n",
    "import torch\n",
    "import ot\n",
    "\n",
    "from generate_data import make_data\n",
    "from minS_parallel import upperW2\n",
    "from utils import random_slice,sort_to_plan"
   ]
  },
  {
   "cell_type": "code",
   "execution_count": 3,
   "id": "0acd1c0a-801d-4705-8420-eba22f1e77e4",
   "metadata": {},
   "outputs": [
    {
     "name": "stdout",
     "output_type": "stream",
     "text": [
      "Used device: cpu\n"
     ]
    }
   ],
   "source": [
    "device = 'cuda' if torch.cuda.is_available() else 'cpu'\n",
    "\n",
    "device='cpu'\n",
    "torch.CUDA_LAUNCH_BLOCKING=1\n",
    "\n",
    "print('Used device: '+device)"
   ]
  },
  {
   "cell_type": "code",
   "execution_count": 4,
   "id": "f64450c5-8378-47b2-b57f-126744f430c5",
   "metadata": {},
   "outputs": [
    {
     "data": {
      "text/plain": [
       "<matplotlib.legend.Legend at 0x7fd0fa9c1c90>"
      ]
     },
     "execution_count": 4,
     "metadata": {},
     "output_type": "execute_result"
    },
    {
     "data": {
      "image/png": "[encoded data removed]",
      "text/plain": [
       "<Figure size 432x432 with 1 Axes>"
      ]
     },
     "metadata": {
      "needs_background": "light"
     },
     "output_type": "display_data"
    }
   ],
   "source": [
    "n=50\n",
    "dim=2\n",
    "xs,xt=make_data('gaussians',n,dim)\n",
    "\n",
    "\n",
    "pl.figure(figsize=(6,6))\n",
    "pl.scatter(xs[:, 0], xs[:, 1], c='C0', label='Source')\n",
    "pl.scatter(xt[:, 0], xt[:, 1], c='C1', label='Target')\n",
    "pl.legend(loc=2)"
   ]
  },
  {
   "cell_type": "code",
   "execution_count": 6,
   "id": "40583991-5170-4d8f-822f-d1f80f563217",
   "metadata": {},
   "outputs": [],
   "source": [
    "X = torch.from_numpy(xs).to(device)\n",
    "Y = torch.from_numpy(xt).to(device)\n",
    "\n",
    "X=X.float()\n",
    "Y=Y.float()"
   ]
  },
  {
   "cell_type": "code",
   "execution_count": 7,
   "id": "e347c9ad-f0ca-43ac-87c5-eac60222b112",
   "metadata": {},
   "outputs": [
    {
     "name": "stdout",
     "output_type": "stream",
     "text": [
      "torch.Size([2, 20])\n"
     ]
    }
   ],
   "source": [
    "n_proj=20\n",
    "theta=random_slice(n_proj,dim).T\n",
    "print(theta.shape)"
   ]
  },
  {
   "cell_type": "code",
   "execution_count": 8,
   "id": "fdd38f3c-fa0d-470d-aaef-397133f597c7",
   "metadata": {},
   "outputs": [
    {
     "name": "stdout",
     "output_type": "stream",
     "text": [
      "minS =  tensor(372.6707)\n",
      "W =  367.96880162999327\n"
     ]
    }
   ],
   "source": [
    "#minS\n",
    "W,u,v=upperW2(X,Y,theta)\n",
    "P_l=[sort_to_plan(u[:,i],v[:,i]) for i in range(n_proj)]\n",
    "print('minS = ',torch.min(W))\n",
    "idx=torch.argmin(W)\n",
    "P=sort_to_plan(u[:,idx],v[:,idx])\n",
    "\n",
    "\n",
    "#The exact Wasserstein distance\n",
    "C=ot.dist(xs,xt)\n",
    "a, b = np.ones((n,))/n, np.ones((n,))/n\n",
    "print('W = ',ot.emd2(a,b,C))"
   ]
  },
  {
   "cell_type": "code",
   "execution_count": null,
   "id": "ab42ba0c-5b1f-4d91-a630-a2da67e5b71f",
   "metadata": {},
   "outputs": [],
   "source": []
  }
 ],
 "metadata": {
  "kernelspec": {
   "display_name": "Python 3 (ipykernel)",
   "language": "python",
   "name": "python3"
  },
  "language_info": {
   "codemirror_mode": {
    "name": "ipython",
    "version": 3
   },
   "file_extension": ".py",
   "mimetype": "text/x-python",
   "name": "python",
   "nbconvert_exporter": "python",
   "pygments_lexer": "ipython3",
   "version": "3.10.6"
  }
 },
 "nbformat": 4,
 "nbformat_minor": 5
}
