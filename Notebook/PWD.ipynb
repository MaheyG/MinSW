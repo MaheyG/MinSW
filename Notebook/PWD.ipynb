{
 "cells": [
  {
   "cell_type": "code",
   "execution_count": 1,
   "id": "97444fa6-0bf1-4b1a-a4c7-c390ef8fccab",
   "metadata": {},
   "outputs": [],
   "source": [
    "import numpy as np\n",
    "import torch\n",
    "import matplotlib.pylab as pl\n",
    "import ot\n",
    "from sklearn import datasets\n",
    "from scipy.stats import ortho_group\n",
    "import pandas as pd"
   ]
  },
  {
   "cell_type": "code",
   "execution_count": 2,
   "id": "13ddfce3-3aac-4586-a9df-69ac83e94c27",
   "metadata": {},
   "outputs": [],
   "source": [
    "import sys\n",
    "sys.path.append('../code/')"
   ]
  },
  {
   "cell_type": "code",
   "execution_count": 3,
   "id": "c5d0dcc4-beaa-4315-a4a5-48757988a11e",
   "metadata": {},
   "outputs": [],
   "source": [
    "from generate_data import make_data\n",
    "from SWGG import SWGG_CP\n",
    "from utils import random_slice"
   ]
  },
  {
   "cell_type": "code",
   "execution_count": 4,
   "id": "37e16b34-b8ff-4101-8d30-b06bce569e27",
   "metadata": {},
   "outputs": [
    {
     "name": "stdout",
     "output_type": "stream",
     "text": [
      "Used device: cpu\n"
     ]
    }
   ],
   "source": [
    "device = 'cuda' if torch.cuda.is_available() else 'cpu'\n",
    "\n",
    "device='cpu'\n",
    "dtype = torch.DoubleTensor\n",
    "print('Used device: '+device)"
   ]
  },
  {
   "cell_type": "code",
   "execution_count": 5,
   "id": "c7870d06-dc57-4244-9119-46f44a29617a",
   "metadata": {},
   "outputs": [
    {
     "data": {
      "text/plain": [
       "<matplotlib.legend.Legend at 0x7f97b036e140>"
      ]
     },
     "execution_count": 5,
     "metadata": {},
     "output_type": "execute_result"
    },
    {
     "data": {
      "image/png": "[encoded data removed]",
      "text/plain": [
       "<Figure size 216x216 with 1 Axes>"
      ]
     },
     "metadata": {
      "needs_background": "light"
     },
     "output_type": "display_data"
    }
   ],
   "source": [
    "n=100\n",
    "dim=2\n",
    "X,Y=make_data('mog_reg',n,dim,device)\n",
    "#X,Y=make_gaussians(n,dim=10)\n",
    "\n",
    "pl.figure(figsize=(3,3))\n",
    "pl.scatter(X[:, 0], X[:, 1], c='C0', label='Source')\n",
    "pl.scatter(Y[:, 0], Y[:, 1], c='C1', label='Target')\n",
    "pl.legend(loc=2)"
   ]
  },
  {
   "cell_type": "markdown",
   "id": "6a86fa69-402d-4f88-ae5c-c4cb200df6b2",
   "metadata": {},
   "source": [
    "# Exact $W^2_2$"
   ]
  },
  {
   "cell_type": "code",
   "execution_count": 6,
   "id": "6c1426ea-992a-4378-9173-7e560e2bc68e",
   "metadata": {},
   "outputs": [
    {
     "name": "stdout",
     "output_type": "stream",
     "text": [
      "W =  tensor(12.6034)\n"
     ]
    }
   ],
   "source": [
    "ns=X.shape[0]\n",
    "nt=Y.shape[0]\n",
    "a, b = torch.ones((ns,))/nt, torch.ones((nt,))/nt\n",
    "#The exact Wasserstein distance\n",
    "C=ot.dist(X,Y)#,metric='euclidean')\n",
    "print('W = ',ot.emd2(a,b,C))"
   ]
  },
  {
   "cell_type": "markdown",
   "id": "dd7c5e41-e94d-42c0-8f87-479353f9a709",
   "metadata": {},
   "source": [
    "# $PDW$ with random Monte-Carlo projections"
   ]
  },
  {
   "cell_type": "code",
   "execution_count": 7,
   "id": "b40b2a6d-1b5c-4dc1-8fd3-3d506bd1f853",
   "metadata": {},
   "outputs": [
    {
     "name": "stdout",
     "output_type": "stream",
     "text": [
      "PWD Monte Carlo =  tensor(48.5890)\n"
     ]
    }
   ],
   "source": [
    "n_proj=20\n",
    "theta=random_slice(n_proj,dim).T\n",
    "W,_,_=SWGG_CP(X,Y,theta)\n",
    "print('PWD Monte Carlo = ',torch.mean(W))\n"
   ]
  },
  {
   "cell_type": "markdown",
   "id": "fd3b0b9e-474e-420b-9aa3-005af381ab85",
   "metadata": {},
   "source": [
    "# $PDW$ with Orthogonal projections"
   ]
  },
  {
   "cell_type": "code",
   "execution_count": 8,
   "id": "343099a6-a145-46c2-ba0b-abcfc00ffcef",
   "metadata": {},
   "outputs": [
    {
     "name": "stdout",
     "output_type": "stream",
     "text": [
      "PWD Orthogonal =  tensor(54.6067)\n"
     ]
    }
   ],
   "source": [
    "n_proj=3 #n_proj < dim\n",
    "theta = ortho_group.rvs(dim)\n",
    "theta = torch.tensor(theta[:,0:n_proj]).float()\n",
    "\n",
    "W,_,_=SWGG_CP(X,Y,theta)\n",
    "print('PWD Orthogonal = ',torch.mean(W))"
   ]
  },
  {
   "cell_type": "markdown",
   "id": "8f398317-99c2-4566-9d7d-2ca50fca131b",
   "metadata": {},
   "source": [
    "# PWD on non linear distributions"
   ]
  },
  {
   "cell_type": "code",
   "execution_count": 9,
   "id": "f89116df-b46b-47a1-9c08-eecfdb930b59",
   "metadata": {},
   "outputs": [],
   "source": [
    "n_seed=10\n",
    "\n",
    "n=200\n",
    "dim=2\n",
    "\n",
    "n_proj=200\n",
    "distrib=['mog_reg','sub-manifold']\n",
    "\n",
    "res=torch.empty((4,len(distrib),n_seed))"
   ]
  },
  {
   "cell_type": "code",
   "execution_count": 10,
   "id": "5dac8981-5aca-415d-8082-85aeacc00ecb",
   "metadata": {},
   "outputs": [
    {
     "name": "stdout",
     "output_type": "stream",
     "text": [
      "0 1 2 3 4 5 6 7 8 9 "
     ]
    }
   ],
   "source": [
    "for j in range(n_seed):\n",
    "    print(j,end=' ')\n",
    "    for k,dis in enumerate(distrib):\n",
    "        X,Y=make_data(dis,n,dim=10,device=device)\n",
    "        ns=X.shape[0]\n",
    "        nt=Y.shape[0]\n",
    "        dim=X.shape[1]\n",
    "        a, b = torch.ones((ns,))/ns, torch.ones((nt,))/nt\n",
    "        \n",
    "        #The exact Wasserstein distance\n",
    "        C=ot.dist(X,Y)\n",
    "        res[0,k,j]=ot.emd2(a,b,C,numItermax=1000000)\n",
    "        \n",
    "        #PWD Monte Carlo\n",
    "        theta=random_slice(n_proj,dim).T\n",
    "        res[1,k,j]=torch.mean(SWGG_CP(X,Y,theta)[0])\n",
    "        \n",
    "        #SWGG Monte Carlo\n",
    "        res[3,k,j]=torch.min(SWGG_CP(X,Y,theta)[0])\n",
    "        \n",
    "        #PWD Orthogonal\n",
    "        theta = ortho_group.rvs(dim)\n",
    "        theta = torch.tensor(theta[:,0:min(n_proj,dim)]).float()\n",
    "        res[2,k,j]=torch.mean(SWGG_CP(X,Y,theta)[0])  "
   ]
  },
  {
   "cell_type": "code",
   "execution_count": 11,
   "id": "f6460232-cbc3-46ee-8cb4-416b137c70a2",
   "metadata": {},
   "outputs": [],
   "source": [
    "res_mean=torch.mean(res,axis=2)\n",
    "res_std=torch.std(res,axis=2)\n",
    "label=['Exact Wasserstein','PWD Monte Carlo','PWD Orthogonal','SWGG']"
   ]
  },
  {
   "cell_type": "code",
   "execution_count": 16,
   "id": "e7ab2962-fee9-4023-a9fd-19c392bf2346",
   "metadata": {},
   "outputs": [],
   "source": [
    "table=pd.DataFrame(torch.round(res_mean), columns=['Multi-modal','Low dimension manifold'],index=label)\n",
    "\n",
    "table = table.style.set_table_styles([dict(selector='th', props=[('text-align', 'center')])])"
   ]
  },
  {
   "cell_type": "code",
   "execution_count": 17,
   "id": "51328c70-7f9a-4bc4-a342-088aa5cb99a0",
   "metadata": {},
   "outputs": [
    {
     "data": {
      "text/html": [
       "<style type=\"text/css\">\n",
       "#T_2cb9d th {\n",
       "  text-align: center;\n",
       "}\n",
       "</style>\n",
       "<table id=\"T_2cb9d\">\n",
       "  <thead>\n",
       "    <tr>\n",
       "      <th class=\"blank level0\" >&nbsp;</th>\n",
       "      <th id=\"T_2cb9d_level0_col0\" class=\"col_heading level0 col0\" >Multi-modal</th>\n",
       "      <th id=\"T_2cb9d_level0_col1\" class=\"col_heading level0 col1\" >Low dimension manifold</th>\n",
       "    </tr>\n",
       "  </thead>\n",
       "  <tbody>\n",
       "    <tr>\n",
       "      <th id=\"T_2cb9d_level0_row0\" class=\"row_heading level0 row0\" >Exact Wasserstein</th>\n",
       "      <td id=\"T_2cb9d_row0_col0\" class=\"data row0 col0\" >12.000000</td>\n",
       "      <td id=\"T_2cb9d_row0_col1\" class=\"data row0 col1\" >12.000000</td>\n",
       "    </tr>\n",
       "    <tr>\n",
       "      <th id=\"T_2cb9d_level0_row1\" class=\"row_heading level0 row1\" >PWD Monte Carlo</th>\n",
       "      <td id=\"T_2cb9d_row1_col0\" class=\"data row1 col0\" >54.000000</td>\n",
       "      <td id=\"T_2cb9d_row1_col1\" class=\"data row1 col1\" >29.000000</td>\n",
       "    </tr>\n",
       "    <tr>\n",
       "      <th id=\"T_2cb9d_level0_row2\" class=\"row_heading level0 row2\" >PWD Orthogonal</th>\n",
       "      <td id=\"T_2cb9d_row2_col0\" class=\"data row2 col0\" >54.000000</td>\n",
       "      <td id=\"T_2cb9d_row2_col1\" class=\"data row2 col1\" >37.000000</td>\n",
       "    </tr>\n",
       "    <tr>\n",
       "      <th id=\"T_2cb9d_level0_row3\" class=\"row_heading level0 row3\" >SWGG</th>\n",
       "      <td id=\"T_2cb9d_row3_col0\" class=\"data row3 col0\" >13.000000</td>\n",
       "      <td id=\"T_2cb9d_row3_col1\" class=\"data row3 col1\" >13.000000</td>\n",
       "    </tr>\n",
       "  </tbody>\n",
       "</table>\n"
      ],
      "text/plain": [
       "<pandas.io.formats.style.Styler at 0x7f97b045e260>"
      ]
     },
     "execution_count": 17,
     "metadata": {},
     "output_type": "execute_result"
    }
   ],
   "source": [
    "table"
   ]
  },
  {
   "cell_type": "code",
   "execution_count": null,
   "id": "50f28138-e648-49c6-a654-2cb1e95bb7bc",
   "metadata": {},
   "outputs": [],
   "source": []
  },
  {
   "cell_type": "code",
   "execution_count": null,
   "id": "a88a0d93-0054-4732-a37a-01e77cec8884",
   "metadata": {},
   "outputs": [],
   "source": []
  },
  {
   "cell_type": "code",
   "execution_count": null,
   "id": "ba3c4100-4890-4e98-9886-1d0da19799b6",
   "metadata": {},
   "outputs": [],
   "source": []
  }
 ],
 "metadata": {
  "kernelspec": {
   "display_name": "Python 3 (ipykernel)",
   "language": "python",
   "name": "python3"
  },
  "language_info": {
   "codemirror_mode": {
    "name": "ipython",
    "version": 3
   },
   "file_extension": ".py",
   "mimetype": "text/x-python",
   "name": "python",
   "nbconvert_exporter": "python",
   "pygments_lexer": "ipython3",
   "version": "3.10.6"
  }
 },
 "nbformat": 4,
 "nbformat_minor": 5
}
