{
 "cells": [
  {
   "cell_type": "code",
   "execution_count": 1,
   "id": "9d870619-b1e9-434d-932b-6abfa2ad0eb6",
   "metadata": {},
   "outputs": [
    {
     "name": "stdout",
     "output_type": "stream",
     "text": [
      "cuda\n",
      "0 "
     ]
    },
    {
     "name": "stderr",
     "output_type": "stream",
     "text": [
      "/home/gui/.local/lib/python3.10/site-packages/torch/functional.py:504: UserWarning: torch.meshgrid: in an upcoming release, it will be required to pass the indexing argument. (Triggered internally at ../aten/src/ATen/native/TensorShape.cpp:3483.)\n",
      "  return _VF.meshgrid(tensors, **kwargs)  # type: ignore[attr-defined]\n"
     ]
    },
    {
     "name": "stdout",
     "output_type": "stream",
     "text": [
      "1 2 3 4 5 6 7 8 9 10 11 12 13 14 15 16 17 18 19 20 21 22 23 24 25 26 27 28 29 30 31 32 33 34 35 36 37 38 39 40 41 42 43 44 45 46 47 48 49 "
     ]
    }
   ],
   "source": [
    "import torch\n",
    "import numpy as np\n",
    "import os\n",
    "import sys\n",
    "sys.path.append('../code/')\n",
    "from utils_ICP import sinkhorn,chamfer,draw_samples,rotation_matrix,Y_to_X\n",
    "from ICP import ICP_fast,procruste\n",
    "\n",
    "if torch.cuda.is_available():\n",
    "    device='cuda'\n",
    "    dtype = torch.cuda.DoubleTensor\n",
    "else:\n",
    "    device='cpu'\n",
    "    dtype=torch.DoubleTensor\n",
    "print(device)\n",
    "\n",
    "torch.set_default_tensor_type(torch.DoubleTensor)\n",
    "\n",
    "#Loading Data\n",
    "\n",
    "#From .png\n",
    "#xt=10*draw_samples(\"./data/ICP/density_b.png\", n=500).numpy()\n",
    "\n",
    "#From .pts\n",
    "#xt=np.loadtxt('./data/ICP/mumble_sitting_3000.pts', comments=(\"version:\", \"n_points:\", \"{\", \"}\"))\n",
    "xt=np.loadtxt('./data/ICP//WitchCastle_150000.pts', comments=(\"version:\", \"n_points:\", \"{\", \"}\"))\n",
    "\n",
    "n,dim=xt.shape\n",
    "\n",
    "Y = torch.from_numpy(xt)\n",
    "Y-=torch.mean(Y,axis=0)\n",
    "\n",
    "n_seed=50\n",
    "max_iter=200\n",
    "\n",
    "method=['swgg','nearest']\n",
    "nb_proj=[100,0]\n",
    "\n",
    "\n",
    "method_sinkhorn=np.zeros((n_seed,len(method)))\n",
    "method_frobenius=np.zeros((n_seed,len(method)))\n",
    "method_chamfer=np.zeros((n_seed,len(method)))\n",
    "method_nb_ite=np.zeros((n_seed,len(method)))\n",
    "method_time=np.zeros((n_seed,len(method)))\n",
    "\n",
    "for i in range(n_seed):\n",
    "    print(i,end=' ')\n",
    "    X=Y_to_X(Y,trans=5,eps=.1)\n",
    "    R_real,t_real=procruste(X, Y)\n",
    "    for j,meth in enumerate(method):\n",
    "        X_f,time,nb,R_f,t_f=ICP_fast(X,Y,pairs=meth, max_iter=max_iter, tol=1e-2,n_proj=nb_proj[j])\n",
    "        method_chamfer[i,j]= chamfer(X_f,Y)\n",
    "        method_sinkhorn[i,j]=sinkhorn(X_f.to(device),Y.to(device))\n",
    "        method_frobenius[i,j]=torch.norm(R_real-R_f)**2+torch.linalg.norm(t_real-t_f)**2\n",
    "        method_time[i,j]=time\n",
    "        method_nb_ite[i,j]=nb"
   ]
  },
  {
   "cell_type": "code",
   "execution_count": 2,
   "id": "40ebadd2-c9da-405e-a5e7-ce8fb7ee091e",
   "metadata": {},
   "outputs": [
    {
     "name": "stdout",
     "output_type": "stream",
     "text": [
      "[8.51834221e-04 6.90115604e+00]\n"
     ]
    }
   ],
   "source": [
    "print(np.mean(method_chamfer,0))"
   ]
  },
  {
   "cell_type": "code",
   "execution_count": 3,
   "id": "423753e6-80ad-4073-8ac3-8ea58069dede",
   "metadata": {},
   "outputs": [
    {
     "name": "stdout",
     "output_type": "stream",
     "text": [
      "[ 3.83848208 21.72730826]\n"
     ]
    }
   ],
   "source": [
    "print(np.mean(method_frobenius,0))"
   ]
  },
  {
   "cell_type": "code",
   "execution_count": 4,
   "id": "f7cffc72-6119-4407-9a44-df550fec9411",
   "metadata": {},
   "outputs": [
    {
     "name": "stdout",
     "output_type": "stream",
     "text": [
      "[ 6.0187961  27.01782301]\n"
     ]
    }
   ],
   "source": [
    "print(np.mean(method_sinkhorn,0))"
   ]
  },
  {
   "cell_type": "code",
   "execution_count": null,
   "id": "453adf88-8921-40f8-acd1-8cb4a4bba6a6",
   "metadata": {},
   "outputs": [],
   "source": []
  },
  {
   "cell_type": "code",
   "execution_count": null,
   "id": "803ed03b-8788-49cf-90d5-4afdccbb0484",
   "metadata": {},
   "outputs": [],
   "source": []
  },
  {
   "cell_type": "code",
   "execution_count": 5,
   "id": "d4bda187-b144-400f-9e23-05cf2d5e252c",
   "metadata": {},
   "outputs": [],
   "source": [
    "np.savetxt(\"Results/ICP/150000_fro.txt\",method_frobenius)\n",
    "np.savetxt(\"Results/ICP/150000_chamfer.txt\",method_chamfer)"
   ]
  },
  {
   "cell_type": "code",
   "execution_count": null,
   "id": "48d5214c-ef9f-4226-bf37-868e7e452c2b",
   "metadata": {},
   "outputs": [],
   "source": []
  },
  {
   "cell_type": "code",
   "execution_count": null,
   "id": "27cc7af5-8c75-41cb-8de3-7ddd81f1b1c8",
   "metadata": {},
   "outputs": [],
   "source": []
  },
  {
   "cell_type": "code",
   "execution_count": null,
   "id": "99bff3fd-96e0-4ff9-b542-302ad85c734b",
   "metadata": {},
   "outputs": [],
   "source": []
  },
  {
   "cell_type": "code",
   "execution_count": null,
   "id": "95b8554c-6840-44d7-8365-eb70f11b744f",
   "metadata": {},
   "outputs": [],
   "source": []
  },
  {
   "cell_type": "code",
   "execution_count": 10,
   "id": "2b454559-2ae5-4064-9683-76ded9364aad",
   "metadata": {},
   "outputs": [],
   "source": [
    "# Data can be load this way\n",
    "method_frobenius=np.loadtxt('Results/ICP/3000_fro.txt')\n",
    "method_chamfer=np.loadtxt('Results/ICP/3000_chamfer.txt')"
   ]
  },
  {
   "cell_type": "code",
   "execution_count": 11,
   "id": "1de8b38e-8eb0-4cf3-9d28-e558cf17c2c7",
   "metadata": {},
   "outputs": [
    {
     "name": "stdout",
     "output_type": "stream",
     "text": [
      "[0.12818157 0.16268573 0.20371273]\n",
      "[ 4.10944076  6.02722562 25.84836751]\n"
     ]
    }
   ],
   "source": [
    "print(np.mean(method_chamfer,0))\n",
    "print(np.mean(method_frobenius,0))"
   ]
  },
  {
   "cell_type": "code",
   "execution_count": null,
   "id": "37ba176e-e87e-4186-80a2-bfb207411291",
   "metadata": {},
   "outputs": [],
   "source": []
  },
  {
   "cell_type": "code",
   "execution_count": null,
   "id": "80c98f0a-5def-406e-a0d2-0be1e96fe9c4",
   "metadata": {},
   "outputs": [],
   "source": []
  }
 ],
 "metadata": {
  "kernelspec": {
   "display_name": "Python 3 (ipykernel)",
   "language": "python",
   "name": "python3"
  },
  "language_info": {
   "codemirror_mode": {
    "name": "ipython",
    "version": 3
   },
   "file_extension": ".py",
   "mimetype": "text/x-python",
   "name": "python",
   "nbconvert_exporter": "python",
   "pygments_lexer": "ipython3",
   "version": "3.10.12"
  }
 },
 "nbformat": 4,
 "nbformat_minor": 5
}
