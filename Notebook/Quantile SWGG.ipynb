{
 "cells": [
  {
   "cell_type": "code",
   "execution_count": 1,
   "id": "0e315c88-eaeb-4e1f-bbd4-10c436c33abc",
   "metadata": {},
   "outputs": [],
   "source": [
    "import numpy as np\n",
    "import torch\n",
    "import matplotlib.pylab as pl\n",
    "import ot\n",
    "import ot.plot\n",
    "from tqdm import trange"
   ]
  },
  {
   "cell_type": "code",
   "execution_count": 2,
   "id": "9c8e3d9c-776a-4291-8356-7f8971fcb9fb",
   "metadata": {},
   "outputs": [],
   "source": [
    "import os\n",
    "import sys\n",
    "sys.path.append('../code/')\n",
    "from SWGG import SWGG_GG,SWGG_CP,get_SWGG_smooth,quantile_SWGG_CP\n",
    "from utils import random_slice,sort_to_plan,quantile_to_plan\n",
    "from generate_data import make_data"
   ]
  },
  {
   "cell_type": "code",
   "execution_count": 3,
   "id": "1e5ab9fe-3857-4b62-8592-bb3574f2e8cb",
   "metadata": {
    "tags": []
   },
   "outputs": [
    {
     "name": "stdout",
     "output_type": "stream",
     "text": [
      "Used device: cpu\n"
     ]
    },
    {
     "name": "stderr",
     "output_type": "stream",
     "text": [
      "/home/gui/.local/lib/python3.10/site-packages/torch/cuda/__init__.py:107: UserWarning: CUDA initialization: CUDA unknown error - this may be due to an incorrectly set up environment, e.g. changing env variable CUDA_VISIBLE_DEVICES after program start. Setting the available devices to be zero. (Triggered internally at ../c10/cuda/CUDAFunctions.cpp:109.)\n",
      "  return torch._C._cuda_getDeviceCount() > 0\n"
     ]
    }
   ],
   "source": [
    "device = 'cuda' if torch.cuda.is_available() else 'cpu'\n",
    "\n",
    "device='cpu'\n",
    "dtype = torch.DoubleTensor\n",
    "print('Used device: '+device)"
   ]
  },
  {
   "cell_type": "code",
   "execution_count": 4,
   "id": "5fa07050-e9b6-41c0-8b18-4e4c71580629",
   "metadata": {},
   "outputs": [
    {
     "name": "stdout",
     "output_type": "stream",
     "text": [
      "cpu\n"
     ]
    }
   ],
   "source": [
    "if torch.cuda.is_available():\n",
    "    device='cuda'\n",
    "    dtype = torch.cuda.DoubleTensor\n",
    "else:\n",
    "    device='cpu'\n",
    "    dtype=torch.DoubleTensor\n",
    "print(device)\n",
    "\n",
    "device='cpu'\n",
    "dtype=torch.DoubleTensor\n",
    "torch.set_default_tensor_type(dtype)"
   ]
  },
  {
   "cell_type": "markdown",
   "id": "b050df54-4646-401f-9569-2c55af1e53f9",
   "metadata": {},
   "source": [
    "# Quantile SWGG"
   ]
  },
  {
   "cell_type": "code",
   "execution_count": 5,
   "id": "d5d49f66-27d4-4772-b430-6f8868d3ce80",
   "metadata": {},
   "outputs": [
    {
     "data": {
      "text/plain": [
       "<matplotlib.legend.Legend at 0x7f4e3e505810>"
      ]
     },
     "execution_count": 5,
     "metadata": {},
     "output_type": "execute_result"
    },
    {
     "data": {
      "image/png": "[encoded data removed]",
      "text/plain": [
       "<Figure size 216x216 with 1 Axes>"
      ]
     },
     "metadata": {
      "needs_background": "light"
     },
     "output_type": "display_data"
    }
   ],
   "source": [
    "ns=42\n",
    "nt=23\n",
    "d=2\n",
    "\n",
    "X,_=make_data('gaussians',ns,d)\n",
    "_,Y=make_data('gaussians',nt,d)\n",
    "\n",
    "pl.figure(figsize=(3,3))\n",
    "pl.scatter(X[:, 0], X[:, 1], c='C0', label='Source')\n",
    "pl.scatter(Y[:, 0], Y[:, 1], c='C1', label='Target')\n",
    "pl.legend(loc=2)"
   ]
  },
  {
   "cell_type": "code",
   "execution_count": 6,
   "id": "75024814-952e-408d-992f-8f9f32640d2f",
   "metadata": {},
   "outputs": [
    {
     "name": "stdout",
     "output_type": "stream",
     "text": [
      "a tensor([0.0238, 0.0238, 0.0238, 0.0238, 0.0238, 0.0238, 0.0238, 0.0238, 0.0238,\n",
      "        0.0238, 0.0238, 0.0238, 0.0238, 0.0238, 0.0238, 0.0238, 0.0238, 0.0238,\n",
      "        0.0238, 0.0238, 0.0238, 0.0238, 0.0238, 0.0238, 0.0238, 0.0238, 0.0238,\n",
      "        0.0238, 0.0238, 0.0238, 0.0238, 0.0238, 0.0238, 0.0238, 0.0238, 0.0238,\n",
      "        0.0238, 0.0238, 0.0238, 0.0238, 0.0238, 0.0238])\n",
      "b tensor([0.0784, 0.0392, 0.0196, 0.0392, 0.0196, 0.0196, 0.0392, 0.0392, 0.0784,\n",
      "        0.0784, 0.0392, 0.0196, 0.0392, 0.0392, 0.0196, 0.0588, 0.0196, 0.0784,\n",
      "        0.0588, 0.0392, 0.0392, 0.0588, 0.0392])\n"
     ]
    }
   ],
   "source": [
    "a=torch.ones((ns,),dtype=float)/ns\n",
    "\n",
    "b=torch.randint(1, 5, (nt,),dtype=float)\n",
    "b/=torch.sum(b)\n",
    "print('a',a)\n",
    "print('b',b)\n",
    "\n",
    "n_proj=300\n",
    "t=random_slice(n_proj,d).T.float()"
   ]
  },
  {
   "cell_type": "code",
   "execution_count": 7,
   "id": "c083a49c-f545-434d-9707-a849f8b19845",
   "metadata": {},
   "outputs": [
    {
     "name": "stdout",
     "output_type": "stream",
     "text": [
      "SWGG =  tensor(9.4340)\n"
     ]
    }
   ],
   "source": [
    "W,r,w_a,w_b,u,v=quantile_SWGG_CP(X,Y,a,b,t)\n",
    "print('SWGG = ',torch.min(W))"
   ]
  },
  {
   "cell_type": "markdown",
   "id": "b3b0c9ff-06bf-4892-88af-6ab3482b7249",
   "metadata": {},
   "source": [
    "### Correspondance when ns=nt and uniform masses"
   ]
  },
  {
   "cell_type": "code",
   "execution_count": 8,
   "id": "5568ffe5-26e4-4372-880a-4e8f52ade746",
   "metadata": {},
   "outputs": [
    {
     "data": {
      "text/plain": [
       "<matplotlib.legend.Legend at 0x7f4e3e165150>"
      ]
     },
     "execution_count": 8,
     "metadata": {},
     "output_type": "execute_result"
    },
    {
     "data": {
      "image/png": "[encoded data removed]",
      "text/plain": [
       "<Figure size 216x216 with 1 Axes>"
      ]
     },
     "metadata": {
      "needs_background": "light"
     },
     "output_type": "display_data"
    }
   ],
   "source": [
    "n=10\n",
    "d=2\n",
    "\n",
    "X,Y=make_data('gaussians',n,d)\n",
    "\n",
    "a=torch.ones((n,),dtype=float)/n\n",
    "b=torch.ones((n,),dtype=float)/n\n",
    "\n",
    "pl.figure(figsize=(3,3))\n",
    "pl.scatter(X[:, 0], X[:, 1], c='C0', label='Source')\n",
    "pl.scatter(Y[:, 0], Y[:, 1], c='C1', label='Target')\n",
    "pl.legend(loc=2)"
   ]
  },
  {
   "cell_type": "code",
   "execution_count": 9,
   "id": "11602f49-eeca-4f05-a793-d705e4802ef9",
   "metadata": {},
   "outputs": [],
   "source": [
    "n_proj=300\n",
    "t=random_slice(n_proj,d).T.float()"
   ]
  },
  {
   "cell_type": "code",
   "execution_count": 10,
   "id": "6d19dc1a-d288-46a5-b0b6-08591c07d122",
   "metadata": {},
   "outputs": [
    {
     "name": "stdout",
     "output_type": "stream",
     "text": [
      "SWGG quantile tensor(10.0584)\n",
      "SWGG =  tensor(10.0584, dtype=torch.float32)\n"
     ]
    }
   ],
   "source": [
    "W,r,w_a,w_b,u,v=quantile_SWGG_CP(X,Y,a,b,t)\n",
    "idx=torch.argmin(W)\n",
    "print('SWGG quantile', W[idx])\n",
    "\n",
    "W,w,z=SWGG_CP(X,Y,t)\n",
    "print('SWGG = ',W[idx])"
   ]
  },
  {
   "cell_type": "code",
   "execution_count": 11,
   "id": "d7cab442-061f-4d32-b339-adba72f776c8",
   "metadata": {},
   "outputs": [],
   "source": [
    "P1=quantile_to_plan(r[:,idx],w_a[:,idx],w_b[:,idx],u[:,idx],v[:,idx])\n",
    "P2=sort_to_plan(w[:,idx],z[:,idx])"
   ]
  },
  {
   "cell_type": "code",
   "execution_count": 12,
   "id": "af1e995a-2c3e-4e4f-b1fb-d38ae93ff3bd",
   "metadata": {},
   "outputs": [
    {
     "name": "stdout",
     "output_type": "stream",
     "text": [
      "tensor(10.0584)\n",
      "tensor(10.0584)\n"
     ]
    }
   ],
   "source": [
    "C=ot.dist(X,Y)\n",
    "print(torch.sum(P1*C))\n",
    "print(torch.sum(P2*C))"
   ]
  },
  {
   "cell_type": "markdown",
   "id": "76a6a240-3c40-43bc-8f89-df261aeaea1c",
   "metadata": {},
   "source": [
    "# quantile SWGG Optim"
   ]
  },
  {
   "cell_type": "code",
   "execution_count": 51,
   "id": "bffddc97-f049-46b8-a5e5-decafc6390fa",
   "metadata": {},
   "outputs": [
    {
     "data": {
      "text/plain": [
       "<matplotlib.legend.Legend at 0x7f4e3d566920>"
      ]
     },
     "execution_count": 51,
     "metadata": {},
     "output_type": "execute_result"
    },
    {
     "data": {
      "image/png": "[encoded data removed]",
      "text/plain": [
       "<Figure size 216x216 with 1 Axes>"
      ]
     },
     "metadata": {
      "needs_background": "light"
     },
     "output_type": "display_data"
    }
   ],
   "source": [
    "ns=33\n",
    "nt=15\n",
    "\n",
    "d=2\n",
    "\n",
    "X,_=make_data('mog_reg',ns,d)\n",
    "_,Y=make_data('mog_reg',nt,d)\n",
    "\n",
    "\n",
    "\n",
    "pl.figure(figsize=(3,3))\n",
    "pl.scatter(X[:, 0], X[:, 1], c='C0', label='Source')\n",
    "pl.scatter(Y[:, 0], Y[:, 1], c='C1', label='Target')\n",
    "pl.legend(loc=2)"
   ]
  },
  {
   "cell_type": "code",
   "execution_count": 52,
   "id": "a1eb3fef-450d-439b-a82b-83228c335e02",
   "metadata": {},
   "outputs": [],
   "source": [
    "a=torch.ones((ns,),dtype=float)/ns\n",
    "\n",
    "b=torch.randint(1, 5, (nt,),dtype=float)\n",
    "b/=torch.sum(b)\n",
    "\n",
    "b=torch.ones((nt,),dtype=float)/nt\n",
    "\n",
    "theta=random_slice(100,d).T.float()"
   ]
  },
  {
   "cell_type": "code",
   "execution_count": 53,
   "id": "268acb30-a773-4adb-af1e-93db6e4dc81c",
   "metadata": {},
   "outputs": [
    {
     "name": "stdout",
     "output_type": "stream",
     "text": [
      "tensor(13.9368)\n"
     ]
    }
   ],
   "source": [
    "print(torch.min(quantile_SWGG_CP(X,Y,a,b,theta)[0]))"
   ]
  },
  {
   "cell_type": "code",
   "execution_count": 54,
   "id": "2fe6f3dd-7dc2-41c2-9c2a-596a4c603014",
   "metadata": {},
   "outputs": [
    {
     "name": "stdout",
     "output_type": "stream",
     "text": [
      "tensor(13.6671)\n"
     ]
    }
   ],
   "source": [
    "C=ot.dist(X,Y)\n",
    "print(ot.emd2(a,b,C))"
   ]
  },
  {
   "cell_type": "code",
   "execution_count": null,
   "id": "43ccb5cd-6354-42f9-a192-ffb40eb33d8d",
   "metadata": {},
   "outputs": [],
   "source": []
  }
 ],
 "metadata": {
  "kernelspec": {
   "display_name": "Python 3 (ipykernel)",
   "language": "python",
   "name": "python3"
  },
  "language_info": {
   "codemirror_mode": {
    "name": "ipython",
    "version": 3
   },
   "file_extension": ".py",
   "mimetype": "text/x-python",
   "name": "python",
   "nbconvert_exporter": "python",
   "pygments_lexer": "ipython3",
   "version": "3.10.12"
  }
 },
 "nbformat": 4,
 "nbformat_minor": 5
}
