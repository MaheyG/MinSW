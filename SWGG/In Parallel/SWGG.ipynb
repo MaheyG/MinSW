{
 "cells": [
  {
   "cell_type": "code",
   "execution_count": 1,
   "id": "00d9289a-ae3a-4139-a5cc-9b33cdc2aaec",
   "metadata": {},
   "outputs": [],
   "source": [
    "import numpy as np\n",
    "import matplotlib.pylab as pl\n",
    "import pylab\n",
    "import torch\n",
    "import ot"
   ]
  },
  {
   "cell_type": "code",
   "execution_count": 2,
   "id": "a49c49f8-2a33-4ac0-9440-3219a91a536f",
   "metadata": {},
   "outputs": [],
   "source": [
    "import sys\n",
    "from generate_data import make_data\n",
    "from SWGG_parallel import SWGG\n",
    "from utils import random_slice,sort_to_plan"
   ]
  },
  {
   "cell_type": "code",
   "execution_count": 3,
   "id": "0acd1c0a-801d-4705-8420-eba22f1e77e4",
   "metadata": {},
   "outputs": [
    {
     "name": "stdout",
     "output_type": "stream",
     "text": [
      "Used device: cpu\n"
     ]
    }
   ],
   "source": [
    "device = 'cuda' if torch.cuda.is_available() else 'cpu'\n",
    "\n",
    "device='cpu'\n",
    "torch.CUDA_LAUNCH_BLOCKING=1\n",
    "\n",
    "print('Used device: '+device)"
   ]
  },
  {
   "cell_type": "code",
   "execution_count": 4,
   "id": "f64450c5-8378-47b2-b57f-126744f430c5",
   "metadata": {},
   "outputs": [
    {
     "data": {
      "text/plain": [
       "<matplotlib.legend.Legend at 0x7f190877bb80>"
      ]
     },
     "execution_count": 4,
     "metadata": {},
     "output_type": "execute_result"
    },
    {
     "data": {
      "image/png": "[encoded data removed]",
      "text/plain": [
       "<Figure size 432x432 with 1 Axes>"
      ]
     },
     "metadata": {
      "needs_background": "light"
     },
     "output_type": "display_data"
    }
   ],
   "source": [
    "n=50\n",
    "dim=2\n",
    "xs,xt=make_data('mog_reg',n,dim)\n",
    "\n",
    "ns=xs.shape[0]\n",
    "nt=xt.shape[0]\n",
    "a, b = np.ones((ns,))/nt, np.ones((nt,))/nt\n",
    "pl.figure(figsize=(6,6))\n",
    "pl.scatter(xs[:, 0], xs[:, 1], c='C0', label='Source')\n",
    "pl.scatter(xt[:, 0], xt[:, 1], c='C1', label='Target')\n",
    "pl.legend(loc=2)"
   ]
  },
  {
   "cell_type": "code",
   "execution_count": 5,
   "id": "40583991-5170-4d8f-822f-d1f80f563217",
   "metadata": {},
   "outputs": [],
   "source": [
    "X = torch.from_numpy(xs).to(device)\n",
    "Y = torch.from_numpy(xt).to(device)\n",
    "\n",
    "X=X.float()\n",
    "Y=Y.float()"
   ]
  },
  {
   "cell_type": "code",
   "execution_count": 6,
   "id": "e347c9ad-f0ca-43ac-87c5-eac60222b112",
   "metadata": {},
   "outputs": [
    {
     "name": "stdout",
     "output_type": "stream",
     "text": [
      "torch.Size([2, 20])\n"
     ]
    }
   ],
   "source": [
    "n_proj=20\n",
    "theta=random_slice(n_proj,dim).T\n",
    "print(theta.shape)"
   ]
  },
  {
   "cell_type": "code",
   "execution_count": 7,
   "id": "fdd38f3c-fa0d-470d-aaef-397133f597c7",
   "metadata": {},
   "outputs": [
    {
     "name": "stdout",
     "output_type": "stream",
     "text": [
      "minS =  tensor(14.4926)\n",
      "W =  14.158526497865221\n"
     ]
    }
   ],
   "source": [
    "#minS\n",
    "W,u,v=SWGG(X,Y,theta)\n",
    "P_l=[sort_to_plan(u[:,i],v[:,i]) for i in range(n_proj)]\n",
    "print('minS = ',torch.min(W))\n",
    "idx=torch.argmin(W)\n",
    "P=sort_to_plan(u[:,idx],v[:,idx])\n",
    "\n",
    "\n",
    "#The exact Wasserstein distance\n",
    "C=ot.dist(xs,xt)\n",
    "print('W = ',ot.emd2(a,b,C))"
   ]
  },
  {
   "cell_type": "code",
   "execution_count": null,
   "id": "f81eaab2-41d7-4e01-acac-c3b4802a134d",
   "metadata": {},
   "outputs": [],
   "source": []
  },
  {
   "cell_type": "code",
   "execution_count": null,
   "id": "78f5645b-cd47-42c7-bf68-8d7ee1ca57a2",
   "metadata": {},
   "outputs": [],
   "source": []
  }
 ],
 "metadata": {
  "kernelspec": {
   "display_name": "Python 3 (ipykernel)",
   "language": "python",
   "name": "python3"
  },
  "language_info": {
   "codemirror_mode": {
    "name": "ipython",
    "version": 3
   },
   "file_extension": ".py",
   "mimetype": "text/x-python",
   "name": "python",
   "nbconvert_exporter": "python",
   "pygments_lexer": "ipython3",
   "version": "3.10.6"
  }
 },
 "nbformat": 4,
 "nbformat_minor": 5
}
