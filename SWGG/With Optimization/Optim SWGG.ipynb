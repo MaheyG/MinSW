{
 "cells": [
  {
   "cell_type": "code",
   "execution_count": 1,
   "id": "0e315c88-eaeb-4e1f-bbd4-10c436c33abc",
   "metadata": {},
   "outputs": [],
   "source": [
    "import numpy as np\n",
    "import torch\n",
    "import matplotlib.pylab as pl\n",
    "import ot\n",
    "import sklearn\n",
    "import pylab\n",
    "from tqdm import trange"
   ]
  },
  {
   "cell_type": "code",
   "execution_count": 6,
   "id": "b417dc27-bf1d-42ed-aadf-0dd5cc31e8e6",
   "metadata": {},
   "outputs": [],
   "source": [
    "import sys\n",
    "from generate_data import make_data\n",
    "from SWGG_Optim import get_SWGG_smooth,SWGG_smooth"
   ]
  },
  {
   "cell_type": "code",
   "execution_count": null,
   "id": "c1556d92-e274-4cd8-8a9f-0abcba9d1a78",
   "metadata": {},
   "outputs": [],
   "source": []
  },
  {
   "cell_type": "code",
   "execution_count": 7,
   "id": "1e5ab9fe-3857-4b62-8592-bb3574f2e8cb",
   "metadata": {
    "tags": []
   },
   "outputs": [
    {
     "name": "stdout",
     "output_type": "stream",
     "text": [
      "Used device: cpu\n"
     ]
    }
   ],
   "source": [
    "device = 'cuda' if torch.cuda.is_available() else 'cpu'\n",
    "\n",
    "device='cpu'\n",
    "dtype = torch.DoubleTensor\n",
    "print('Used device: '+device)"
   ]
  },
  {
   "cell_type": "code",
   "execution_count": 8,
   "id": "03b0f84c-f9f2-44ee-800d-15bb3865282a",
   "metadata": {},
   "outputs": [
    {
     "data": {
      "text/plain": [
       "<matplotlib.legend.Legend at 0x7f0181390a90>"
      ]
     },
     "execution_count": 8,
     "metadata": {},
     "output_type": "execute_result"
    },
    {
     "data": {
      "image/png": "[encoded data removed]",
      "text/plain": [
       "<Figure size 216x216 with 1 Axes>"
      ]
     },
     "metadata": {
      "needs_background": "light"
     },
     "output_type": "display_data"
    }
   ],
   "source": [
    "n=1000\n",
    "dim=2\n",
    "xs,xt=make_data('gaussians',n,dim)\n",
    "\n",
    "\n",
    "X = torch.from_numpy(xs).to(device)\n",
    "Y = torch.from_numpy(xt).to(device)\n",
    "X=X.float()\n",
    "Y=Y.float()\n",
    "\n",
    "pl.figure(figsize=(3,3))\n",
    "pl.scatter(xs[:, 0], xs[:, 1], c='C0', label='Source')\n",
    "pl.scatter(xt[:, 0], xt[:, 1], c='C1', label='Target')\n",
    "pl.legend(loc=2)"
   ]
  },
  {
   "cell_type": "code",
   "execution_count": 9,
   "id": "33ca0495-78d5-4f83-8fee-aa5cb6734c37",
   "metadata": {},
   "outputs": [
    {
     "name": "stderr",
     "output_type": "stream",
     "text": [
      "100%|████████████████████████| 200/200 [00:00<00:00, 286.84it/s, loss = 405.981]"
     ]
    },
    {
     "name": "stdout",
     "output_type": "stream",
     "text": [
      "minS with selected theta tensor(400.2791)\n"
     ]
    },
    {
     "name": "stderr",
     "output_type": "stream",
     "text": [
      "\n"
     ]
    }
   ],
   "source": [
    "num_iter=200\n",
    "lr=1e0\n",
    "s=20\n",
    "std=.5\n",
    "\n",
    "t,loss_smooth_l,proj_smooth_l = get_SWGG_smooth(X,Y,lr=lr,num_iter=num_iter,s=s,std=std)\n",
    "t.requires_grad=False\n",
    "theta_optim=t/torch.norm(t)\n",
    "\n",
    "res_smooth=SWGG_smooth(X,Y,theta_optim,s=1,std=0)\n",
    "print('minS with selected theta',res_smooth)"
   ]
  },
  {
   "cell_type": "code",
   "execution_count": 11,
   "id": "4b6d2ca1-8b6e-4485-bc3b-4fe9d35d7f87",
   "metadata": {},
   "outputs": [
    {
     "data": {
      "image/png": "[encoded data removed]",
      "text/plain": [
       "<Figure size 576x216 with 2 Axes>"
      ]
     },
     "metadata": {
      "needs_background": "light"
     },
     "output_type": "display_data"
    }
   ],
   "source": [
    "pl.figure(figsize=(8,3))\n",
    "grid = pl.GridSpec(1, 2, wspace=0.4, hspace=0.3)\n",
    "\n",
    "pl.subplot(grid[0, 0])\n",
    "pl.plot(loss_smooth_l)\n",
    "pl.title('minSW smooth mass')\n",
    "\n",
    "pl.subplot(grid[0, 1])\n",
    "pl.scatter(X[:, 0], X[:, 1], c='C0', label='Source')\n",
    "pl.scatter(Y[:, 0], Y[:, 1], c='C1', label='Target')\n",
    "for i in range(num_iter):\n",
    "    pl.axline((0,0), list(proj_smooth_l[i,0:2]), color='C2',alpha=(i/num_iter)**10)\n"
   ]
  },
  {
   "cell_type": "code",
   "execution_count": null,
   "id": "c09dac05-f826-475d-8349-4cee1cb0bd1c",
   "metadata": {},
   "outputs": [],
   "source": []
  },
  {
   "cell_type": "code",
   "execution_count": null,
   "id": "3c737262-5cf8-4780-b9b2-fb366390f8f5",
   "metadata": {},
   "outputs": [],
   "source": []
  },
  {
   "cell_type": "code",
   "execution_count": null,
   "id": "7f83f577-bede-4874-8e92-2e2bb756396c",
   "metadata": {},
   "outputs": [],
   "source": []
  },
  {
   "cell_type": "code",
   "execution_count": null,
   "id": "19e3d79a-064e-4378-b9b0-ab2ed3461dde",
   "metadata": {},
   "outputs": [],
   "source": []
  },
  {
   "cell_type": "code",
   "execution_count": null,
   "id": "179073a7-b13e-4bb2-80fc-88fa83fb41ca",
   "metadata": {},
   "outputs": [],
   "source": []
  },
  {
   "cell_type": "code",
   "execution_count": null,
   "id": "d8c38dda-8648-41a3-bdeb-db54af253e57",
   "metadata": {},
   "outputs": [],
   "source": []
  },
  {
   "cell_type": "code",
   "execution_count": null,
   "id": "3419d156-7506-43d2-a32d-7ea39bc242e9",
   "metadata": {},
   "outputs": [],
   "source": []
  },
  {
   "cell_type": "code",
   "execution_count": null,
   "id": "d5d49f66-27d4-4772-b430-6f8868d3ce80",
   "metadata": {},
   "outputs": [],
   "source": []
  }
 ],
 "metadata": {
  "kernelspec": {
   "display_name": "Python 3 (ipykernel)",
   "language": "python",
   "name": "python3"
  },
  "language_info": {
   "codemirror_mode": {
    "name": "ipython",
    "version": 3
   },
   "file_extension": ".py",
   "mimetype": "text/x-python",
   "name": "python",
   "nbconvert_exporter": "python",
   "pygments_lexer": "ipython3",
   "version": "3.10.6"
  }
 },
 "nbformat": 4,
 "nbformat_minor": 5
}
