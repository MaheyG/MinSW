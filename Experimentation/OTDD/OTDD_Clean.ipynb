{
 "cells": [
  {
   "cell_type": "code",
   "execution_count": 1,
   "metadata": {},
   "outputs": [],
   "source": [
    "import sys\n",
    "sys.path.append('')\n",
    "import matplotlib.pylab as pl\n",
    "import torch\n",
    "import torchvision.datasets as datasets\n",
    "import torchvision.transforms as transforms\n",
    "import numpy as np\n",
    "import scipy.linalg \n",
    "import ot\n",
    "import time"
   ]
  },
  {
   "cell_type": "code",
   "execution_count": 2,
   "metadata": {},
   "outputs": [
    {
     "name": "stderr",
     "output_type": "stream",
     "text": [
      "ot.gpu not found - coupling computation will be in cpu\n"
     ]
    }
   ],
   "source": [
    "from otdd_main.otdd.pytorch.datasets import load_torchvision_data\n",
    "from otdd_main.otdd.pytorch.distance import DatasetDistance"
   ]
  },
  {
   "cell_type": "markdown",
   "metadata": {},
   "source": [
    "# One Example"
   ]
  },
  {
   "cell_type": "code",
   "execution_count": 3,
   "metadata": {},
   "outputs": [
    {
     "name": "stdout",
     "output_type": "stream",
     "text": [
      "test\n",
      "Fold Sizes: 2000/10000 (train/test)\n",
      "test\n",
      "Fold Sizes: 2000/10000 (train/test)\n"
     ]
    }
   ],
   "source": [
    "loaders_src = load_torchvision_data('FashionMNIST', valid_size=0, resize = 28, maxsize=2000)[0]\n",
    "loaders_tgt = load_torchvision_data('KMNIST',  valid_size=0, resize = 28, maxsize=2000)[0]"
   ]
  },
  {
   "cell_type": "code",
   "execution_count": 5,
   "metadata": {},
   "outputs": [
    {
     "data": {
      "application/vnd.jupyter.widget-view+json": {
       "model_id": "",
       "version_major": 2,
       "version_minor": 0
      },
      "text/plain": [
       "  0%|          | 0/32 [00:00<?, ?it/s]"
      ]
     },
     "metadata": {},
     "output_type": "display_data"
    },
    {
     "data": {
      "application/vnd.jupyter.widget-view+json": {
       "model_id": "",
       "version_major": 2,
       "version_minor": 0
      },
      "text/plain": [
       "  0%|          | 0/32 [00:00<?, ?it/s]"
      ]
     },
     "metadata": {},
     "output_type": "display_data"
    },
    {
     "data": {
      "application/vnd.jupyter.widget-view+json": {
       "model_id": "",
       "version_major": 2,
       "version_minor": 0
      },
      "text/plain": [
       "  0%|          | 0/45 [00:00<?, ?it/s]"
      ]
     },
     "metadata": {},
     "output_type": "display_data"
    },
    {
     "data": {
      "application/vnd.jupyter.widget-view+json": {
       "model_id": "",
       "version_major": 2,
       "version_minor": 0
      },
      "text/plain": [
       "  0%|          | 0/45 [00:00<?, ?it/s]"
      ]
     },
     "metadata": {},
     "output_type": "display_data"
    },
    {
     "data": {
      "application/vnd.jupyter.widget-view+json": {
       "model_id": "",
       "version_major": 2,
       "version_minor": 0
      },
      "text/plain": [
       "  0%|          | 0/100 [00:00<?, ?it/s]"
      ]
     },
     "metadata": {},
     "output_type": "display_data"
    },
    {
     "name": "stdout",
     "output_type": "stream",
     "text": [
      "OTDD(src,tgt)=1304.105224609375\n"
     ]
    }
   ],
   "source": [
    "dist = DatasetDistance(loaders_src['train'], loaders_tgt['train'],\n",
    "                       inner_ot_method = 'exact',\n",
    "                       debiased_loss = True,\n",
    "                       p = 2, entreg = 1e-1,\n",
    "                       device='cpu')\n",
    "\n",
    "d = dist.distance(maxsamples = 1000)\n",
    "print(f'OTDD(src,tgt)={d}')"
   ]
  },
  {
   "cell_type": "markdown",
   "metadata": {},
   "source": [
    "# Table Result"
   ]
  },
  {
   "cell_type": "code",
   "execution_count": 6,
   "metadata": {},
   "outputs": [],
   "source": [
    "n_seed=1\n",
    "source=['MNIST','EMNIST','FashionMNIST','KMNIST','USPS']\n",
    "target=['MNIST','EMNIST','FashionMNIST','KMNIST','USPS']\n",
    "\n",
    "table_W_mean=torch.empty((5,5))\n",
    "table_W_std=torch.empty((5,5))"
   ]
  },
  {
   "cell_type": "code",
   "execution_count": null,
   "metadata": {},
   "outputs": [
    {
     "name": "stdout",
     "output_type": "stream",
     "text": [
      "i 0\n",
      "j 0test\n",
      "Fold Sizes: 40000/10000 (train/test)\n",
      "test\n",
      "Fold Sizes: 40000/10000 (train/test)\n"
     ]
    },
    {
     "data": {
      "application/vnd.jupyter.widget-view+json": {
       "model_id": "",
       "version_major": 2,
       "version_minor": 0
      },
      "text/plain": [
       "  0%|          | 0/625 [00:00<?, ?it/s]"
      ]
     },
     "metadata": {},
     "output_type": "display_data"
    },
    {
     "data": {
      "application/vnd.jupyter.widget-view+json": {
       "model_id": "",
       "version_major": 2,
       "version_minor": 0
      },
      "text/plain": [
       "  0%|          | 0/625 [00:00<?, ?it/s]"
      ]
     },
     "metadata": {},
     "output_type": "display_data"
    },
    {
     "data": {
      "application/vnd.jupyter.widget-view+json": {
       "model_id": "",
       "version_major": 2,
       "version_minor": 0
      },
      "text/plain": [
       "  0%|          | 0/45 [00:00<?, ?it/s]"
      ]
     },
     "metadata": {},
     "output_type": "display_data"
    },
    {
     "data": {
      "application/vnd.jupyter.widget-view+json": {
       "model_id": "",
       "version_major": 2,
       "version_minor": 0
      },
      "text/plain": [
       "  0%|          | 0/45 [00:00<?, ?it/s]"
      ]
     },
     "metadata": {},
     "output_type": "display_data"
    },
    {
     "data": {
      "application/vnd.jupyter.widget-view+json": {
       "model_id": "",
       "version_major": 2,
       "version_minor": 0
      },
      "text/plain": [
       "  0%|          | 0/100 [00:00<?, ?it/s]"
      ]
     },
     "metadata": {},
     "output_type": "display_data"
    }
   ],
   "source": [
    "start = time.process_time()\n",
    "for i,s in enumerate(source) :\n",
    "    print('i',i)\n",
    "    for j,t in enumerate(target):\n",
    "        print('j',j,end='')\n",
    "        W=torch.empty(n_seed)\n",
    "        loaders_src = load_torchvision_data(s, valid_size=0, resize = 28, maxsize=40000)[0]\n",
    "        loaders_tgt = load_torchvision_data(t,  valid_size=0, resize = 28, maxsize=40000)[0]\n",
    "        for r in range(n_seed):\n",
    "            dist = DatasetDistance(loaders_src['train'], loaders_tgt['train'],\n",
    "                           inner_ot_method = 'exact',inner_ot_loss='wasserstein',\n",
    "                           debiased_loss = True,\n",
    "                           p = 2, entreg = 1e-1,\n",
    "                           device='cpu')\n",
    "            W[r] = dist.distance(maxsamples = 40000)\n",
    "        \n",
    "        table_W_mean[i,j]=torch.mean(W)\n",
    "        table_W_std[i,j]=torch.std(W)\n",
    "print(time.process_time() - start)"
   ]
  },
  {
   "cell_type": "code",
   "execution_count": null,
   "metadata": {},
   "outputs": [],
   "source": [
    "print('Mean',table_W_mean)\n",
    "print('std',table_W_std)"
   ]
  },
  {
   "cell_type": "code",
   "execution_count": null,
   "metadata": {},
   "outputs": [],
   "source": []
  },
  {
   "cell_type": "code",
   "execution_count": null,
   "metadata": {},
   "outputs": [],
   "source": []
  },
  {
   "cell_type": "markdown",
   "metadata": {},
   "source": [
    "# Resultat to Table"
   ]
  },
  {
   "cell_type": "code",
   "execution_count": 8,
   "metadata": {},
   "outputs": [],
   "source": [
    "from coloraide import Color"
   ]
  },
  {
   "cell_type": "code",
   "execution_count": 9,
   "metadata": {},
   "outputs": [
    {
     "data": {
      "image/png": "[encoded data removed]",
      "text/plain": [
       "<Figure size 432x288 with 1 Axes>"
      ]
     },
     "metadata": {
      "needs_background": "light"
     },
     "output_type": "display_data"
    }
   ],
   "source": [
    "inter = Color.interpolate([\"rebeccapurple\", \"rgb(255,202,0)\"],space='srgb')\n",
    "for x in range(100+1):\n",
    "    col=inter(x/100)\n",
    "    col=(col[0],col[1],col[2])\n",
    "    pl.scatter([0],[x],color=col)\n"
   ]
  },
  {
   "cell_type": "code",
   "execution_count": 11,
   "metadata": {},
   "outputs": [],
   "source": [
    "source=['MNIST','EMNIST','FashionMNIST','KMNIST','USPS']\n",
    "target=['MNIST','EMNIST','FashionMNIST','KMNIST','USPS']"
   ]
  },
  {
   "cell_type": "code",
   "execution_count": 12,
   "metadata": {},
   "outputs": [
    {
     "name": "stdout",
     "output_type": "stream",
     "text": [
      "\n",
      "MNIST\n",
      "150.3 98.7 104.7\n",
      "152.1 100.5 102.9\n",
      "233.8 181.1 21.2\n",
      "233.8 181.1 21.2\n",
      "153.6 101.9 101.4\n",
      "\n",
      "EMNIST\n",
      "149.5 97.8 105.5\n",
      "150.3 98.7 104.7\n",
      "227.6 174.9 27.4\n",
      "237.0 184.3 18.0\n",
      "165.4 113.6 89.6\n",
      "\n",
      "FashionMNIST\n",
      "232.9 180.2 22.1\n",
      "216.7 164.2 38.3\n",
      "150.3 98.7 104.7\n",
      "255.0 202.0 0.0\n",
      "105.8 54.8 149.2\n",
      "\n",
      "KMNIST\n",
      "230.2 177.6 24.8\n",
      "240.3 187.5 14.7\n",
      "249.4 196.5 5.6\n",
      "150.3 98.7 104.7\n",
      "173.0 121.1 82.0\n",
      "\n",
      "USPS\n",
      "150.3 98.7 104.7\n",
      "165.7 113.8 89.3\n",
      "102.0 51.0 153.0\n",
      "173.9 122.0 81.1\n",
      "150.3 98.7 104.7\n"
     ]
    },
    {
     "data": {
      "image/png": "[encoded data removed]",
      "text/plain": [
       "<Figure size 432x288 with 1 Axes>"
      ]
     },
     "metadata": {
      "needs_background": "light"
     },
     "output_type": "display_data"
    }
   ],
   "source": [
    "# Optim de la droite\n",
    "table_W_mean=torch.tensor([[1030,1036,1313,1313,1041],\n",
    "                           [1027,1030,1292,1324,1081],\n",
    "                           [1310,1255,1030,1385,879],\n",
    "                           [1301,1335,1366,1030,1107],\n",
    "                           [1030,1082,866,1110,1030]])\n",
    "table_W_std=torch.tensor([[2.7,4.3,5.5,4.8,2.3],\n",
    "                         [3.8,5.3,6.3,6,8],\n",
    "                         [4.6,7.3,5.6,6,6],\n",
    "                         [3.3,4.9,2.4,4.1,3.2],\n",
    "                         [6.7,6.6,3.4,7.4,3.5]])\n",
    "\n",
    "maax=torch.max(table_W_mean)\n",
    "miin=torch.min(table_W_mean)\n",
    "\n",
    "table_W_mean=(table_W_mean-miin)/(maax-miin)\n",
    "for i,row in enumerate(table_W_mean):\n",
    "    print('')\n",
    "    print(source[i])\n",
    "    for j,x in enumerate(row):\n",
    "        col=inter(x)\n",
    "        print(np.round(255*col[0],1),np.round(255*col[1],1),np.round(255*col[2],1))\n",
    "        pl.scatter([i],[j],color=col)"
   ]
  },
  {
   "cell_type": "code",
   "execution_count": null,
   "metadata": {},
   "outputs": [],
   "source": []
  }
 ],
 "metadata": {
  "colab": {
   "collapsed_sections": [],
   "provenance": []
  },
  "kernelspec": {
   "display_name": "Python 3 (ipykernel)",
   "language": "python",
   "name": "python3"
  },
  "language_info": {
   "codemirror_mode": {
    "name": "ipython",
    "version": 3
   },
   "file_extension": ".py",
   "mimetype": "text/x-python",
   "name": "python",
   "nbconvert_exporter": "python",
   "pygments_lexer": "ipython3",
   "version": "3.10.6"
  }
 },
 "nbformat": 4,
 "nbformat_minor": 4
}
